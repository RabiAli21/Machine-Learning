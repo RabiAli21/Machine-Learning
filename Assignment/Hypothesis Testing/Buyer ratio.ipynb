{
 "cells": [
  {
   "cell_type": "code",
   "execution_count": 2,
   "id": "326ae16c",
   "metadata": {
    "ExecuteTime": {
     "end_time": "2024-01-24T11:47:06.900333Z",
     "start_time": "2024-01-24T11:47:06.151850Z"
    }
   },
   "outputs": [],
   "source": [
    "import pandas as pd"
   ]
  },
  {
   "cell_type": "code",
   "execution_count": 3,
   "id": "73a9b66e",
   "metadata": {
    "ExecuteTime": {
     "end_time": "2024-01-24T11:47:23.941779Z",
     "start_time": "2024-01-24T11:47:23.870675Z"
    }
   },
   "outputs": [
    {
     "data": {
      "text/html": [
       "<div>\n",
       "<style scoped>\n",
       "    .dataframe tbody tr th:only-of-type {\n",
       "        vertical-align: middle;\n",
       "    }\n",
       "\n",
       "    .dataframe tbody tr th {\n",
       "        vertical-align: top;\n",
       "    }\n",
       "\n",
       "    .dataframe thead th {\n",
       "        text-align: right;\n",
       "    }\n",
       "</style>\n",
       "<table border=\"1\" class=\"dataframe\">\n",
       "  <thead>\n",
       "    <tr style=\"text-align: right;\">\n",
       "      <th></th>\n",
       "      <th>Observed Values</th>\n",
       "      <th>East</th>\n",
       "      <th>West</th>\n",
       "      <th>North</th>\n",
       "      <th>South</th>\n",
       "    </tr>\n",
       "  </thead>\n",
       "  <tbody>\n",
       "    <tr>\n",
       "      <th>0</th>\n",
       "      <td>Males</td>\n",
       "      <td>50</td>\n",
       "      <td>142</td>\n",
       "      <td>131</td>\n",
       "      <td>70</td>\n",
       "    </tr>\n",
       "    <tr>\n",
       "      <th>1</th>\n",
       "      <td>Females</td>\n",
       "      <td>435</td>\n",
       "      <td>1523</td>\n",
       "      <td>1356</td>\n",
       "      <td>750</td>\n",
       "    </tr>\n",
       "  </tbody>\n",
       "</table>\n",
       "</div>"
      ],
      "text/plain": [
       "  Observed Values  East  West  North  South\n",
       "0           Males    50   142    131     70\n",
       "1         Females   435  1523   1356    750"
      ]
     },
     "execution_count": 3,
     "metadata": {},
     "output_type": "execute_result"
    }
   ],
   "source": [
    "data = pd.read_csv(\"BuyerRatio.csv\")\n",
    "data"
   ]
  },
  {
   "cell_type": "markdown",
   "id": "308b56a5",
   "metadata": {},
   "source": [
    "we will perform Chi_square test because it is use for categorical data."
   ]
  },
  {
   "cell_type": "code",
   "execution_count": 25,
   "id": "c0ce8722",
   "metadata": {
    "ExecuteTime": {
     "end_time": "2024-01-24T12:02:58.352736Z",
     "start_time": "2024-01-24T12:02:58.344793Z"
    }
   },
   "outputs": [],
   "source": [
    "import numpy as np\n",
    "import  scipy"
   ]
  },
  {
   "cell_type": "code",
   "execution_count": 27,
   "id": "885257ac",
   "metadata": {
    "ExecuteTime": {
     "end_time": "2024-01-24T12:03:47.552608Z",
     "start_time": "2024-01-24T12:03:47.543407Z"
    }
   },
   "outputs": [],
   "source": [
    "observed_values = np.array([[50, 142, 131, 70],\n",
    "                            [435, 1523, 1356, 750]])"
   ]
  },
  {
   "cell_type": "code",
   "execution_count": 34,
   "id": "1ba59577",
   "metadata": {
    "ExecuteTime": {
     "end_time": "2024-01-24T12:08:10.035318Z",
     "start_time": "2024-01-24T12:08:10.026726Z"
    }
   },
   "outputs": [],
   "source": [
    "chi2_stat, p_value, dof, expected =scipy.stats.chi2_contingency(observed_values)"
   ]
  },
  {
   "cell_type": "code",
   "execution_count": 35,
   "id": "aa9372fe",
   "metadata": {
    "ExecuteTime": {
     "end_time": "2024-01-24T12:08:12.411068Z",
     "start_time": "2024-01-24T12:08:12.401552Z"
    }
   },
   "outputs": [
    {
     "name": "stdout",
     "output_type": "stream",
     "text": [
      "Chi-squared Statistic: 1.595945538661058\n",
      "P-value: 0.6603094907091882\n",
      "Degrees of Freedom: 3\n",
      "Expected Frequencies:\n",
      "[[  42.76531299  146.81287862  131.11756787   72.30424052]\n",
      " [ 442.23468701 1518.18712138 1355.88243213  747.69575948]]\n"
     ]
    }
   ],
   "source": [
    "print(f\"Chi-squared Statistic: {chi2_stat}\")\n",
    "print(f\"P-value: {p_value}\")\n",
    "print(f\"Degrees of Freedom: {dof}\")\n",
    "print(\"Expected Frequencies:\")\n",
    "print(expected)"
   ]
  },
  {
   "cell_type": "code",
   "execution_count": 36,
   "id": "9dd0fb07",
   "metadata": {
    "ExecuteTime": {
     "end_time": "2024-01-24T12:08:14.532877Z",
     "start_time": "2024-01-24T12:08:14.524884Z"
    }
   },
   "outputs": [
    {
     "name": "stdout",
     "output_type": "stream",
     "text": [
      "Fail to reject the null hypothesis: Proportions are equal.\n"
     ]
    }
   ],
   "source": [
    "#alpha value =0.05\n",
    "if p_value < 0.05:\n",
    "    print(\"Reject the null hypothesis: Not all proportions are equal.\")\n",
    "else:\n",
    "    print(\"Fail to reject the null hypothesis: Proportions are equal.\")"
   ]
  },
  {
   "cell_type": "code",
   "execution_count": null,
   "id": "f43ec3a9",
   "metadata": {},
   "outputs": [],
   "source": []
  }
 ],
 "metadata": {
  "kernelspec": {
   "display_name": "Python 3 (ipykernel)",
   "language": "python",
   "name": "python3"
  },
  "language_info": {
   "codemirror_mode": {
    "name": "ipython",
    "version": 3
   },
   "file_extension": ".py",
   "mimetype": "text/x-python",
   "name": "python",
   "nbconvert_exporter": "python",
   "pygments_lexer": "ipython3",
   "version": "3.9.13"
  }
 },
 "nbformat": 4,
 "nbformat_minor": 5
}
