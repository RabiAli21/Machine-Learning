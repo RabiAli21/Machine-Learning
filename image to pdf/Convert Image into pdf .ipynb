{
 "cells": [
  {
   "cell_type": "code",
   "execution_count": 1,
   "id": "2fa1e9a2",
   "metadata": {
    "ExecuteTime": {
     "end_time": "2024-11-05T14:37:19.632311Z",
     "start_time": "2024-11-05T14:37:14.354953Z"
    }
   },
   "outputs": [
    {
     "name": "stdout",
     "output_type": "stream",
     "text": [
      "Requirement already satisfied: Pillow in c:\\users\\user\\anaconda3\\lib\\site-packages (9.2.0)\n",
      "Collecting reportlab\n",
      "  Downloading reportlab-4.2.5-py3-none-any.whl.metadata (1.5 kB)\n",
      "Requirement already satisfied: chardet in c:\\users\\user\\anaconda3\\lib\\site-packages (from reportlab) (3.0.4)\n",
      "Downloading reportlab-4.2.5-py3-none-any.whl (1.9 MB)\n",
      "   ---------------------------------------- 1.9/1.9 MB 7.7 MB/s eta 0:00:00\n",
      "Installing collected packages: reportlab\n",
      "Successfully installed reportlab-4.2.5\n",
      "Note: you may need to restart the kernel to use updated packages.\n"
     ]
    },
    {
     "name": "stderr",
     "output_type": "stream",
     "text": [
      "WARNING: Ignoring invalid distribution -treamlit (c:\\users\\user\\anaconda3\\lib\\site-packages)\n",
      "WARNING: Ignoring invalid distribution -treamlit (c:\\users\\user\\anaconda3\\lib\\site-packages)\n",
      "WARNING: Ignoring invalid distribution -treamlit (c:\\users\\user\\anaconda3\\lib\\site-packages)\n",
      "\n",
      "[notice] A new release of pip is available: 24.2 -> 24.3.1\n",
      "[notice] To update, run: python.exe -m pip install --upgrade pip\n"
     ]
    }
   ],
   "source": [
    "pip install Pillow reportlab\n"
   ]
  },
  {
   "cell_type": "code",
   "execution_count": 4,
   "id": "91a7fc50",
   "metadata": {
    "ExecuteTime": {
     "end_time": "2024-11-05T14:42:54.473309Z",
     "start_time": "2024-11-05T14:42:42.242722Z"
    }
   },
   "outputs": [
    {
     "name": "stdout",
     "output_type": "stream",
     "text": [
      "PDF created successfully: output.pdf\n"
     ]
    }
   ],
   "source": [
    "import os\n",
    "from PIL import Image\n",
    "from reportlab.lib.pagesizes import A4\n",
    "from reportlab.lib import colors\n",
    "from reportlab.lib.styles import getSampleStyleSheet, ParagraphStyle\n",
    "from reportlab.pdfgen import canvas\n",
    "from reportlab.platypus import SimpleDocTemplate, Paragraph, Image as PDFImage\n",
    "from reportlab.lib.units import inch\n",
    "\n",
    "# Directory containing the images\n",
    "image_directory = 'C:\\\\Users\\\\user\\\\Downloads\\\\outlier-online-hiring-company'  # Change to your image folder\n",
    "# Output PDF file name\n",
    "output_pdf = 'output.pdf'\n",
    "\n",
    "# Create a PDF document\n",
    "doc = SimpleDocTemplate(output_pdf, pagesize=A4)\n",
    "\n",
    "# Create a list to hold the content\n",
    "content = []\n",
    "\n",
    "# Define styles\n",
    "style = ParagraphStyle(\n",
    "    name='Normal',\n",
    "    fontName='Times-Roman',\n",
    "    fontSize=10,\n",
    "    leading=12,\n",
    "    spaceAfter=12,\n",
    ")\n",
    "\n",
    "# List all images in the directory\n",
    "images = [f for f in os.listdir(image_directory) if f.lower().endswith(('.png', '.jpg', '.jpeg'))]\n",
    "\n",
    "# Sort images to ensure they are in the correct order\n",
    "images.sort()\n",
    "\n",
    "# Iterate through the images and add them to the PDF\n",
    "for image in images:\n",
    "    image_path = os.path.join(image_directory, image)\n",
    "\n",
    "    # Open the image to get its size\n",
    "    img = Image.open(image_path)\n",
    "\n",
    "    # Create a PDFImage object\n",
    "    pdf_img = PDFImage(image_path)\n",
    "\n",
    "    # Scale the image to fit within the A4 page while maintaining aspect ratio\n",
    "    img_width, img_height = img.size\n",
    "    aspect_ratio = img_height / img_width\n",
    "    pdf_img.drawHeight = 7.5 * inch  # Set height to 7.5 inches\n",
    "    pdf_img.drawWidth = pdf_img.drawHeight / aspect_ratio  # Maintain aspect ratio\n",
    "\n",
    "    # Add the image to the PDF content\n",
    "    content.append(pdf_img)\n",
    "\n",
    "    # Add a line break (optional)\n",
    "    content.append(Paragraph(\"\", style))\n",
    "\n",
    "# Build the PDF\n",
    "doc.build(content)\n",
    "\n",
    "print(f\"PDF created successfully: {output_pdf}\")\n"
   ]
  },
  {
   "cell_type": "code",
   "execution_count": null,
   "id": "f74d803e",
   "metadata": {},
   "outputs": [],
   "source": []
  }
 ],
 "metadata": {
  "kernelspec": {
   "display_name": "Python 3 (ipykernel)",
   "language": "python",
   "name": "python3"
  },
  "language_info": {
   "codemirror_mode": {
    "name": "ipython",
    "version": 3
   },
   "file_extension": ".py",
   "mimetype": "text/x-python",
   "name": "python",
   "nbconvert_exporter": "python",
   "pygments_lexer": "ipython3",
   "version": "3.9.13"
  }
 },
 "nbformat": 4,
 "nbformat_minor": 5
}
